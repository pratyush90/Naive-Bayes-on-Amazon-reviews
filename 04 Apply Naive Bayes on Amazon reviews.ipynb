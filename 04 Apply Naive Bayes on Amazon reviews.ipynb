{
 "cells": [
  {
   "cell_type": "markdown",
   "metadata": {
    "colab_type": "text",
    "id": "4UPJU7FIDYHb"
   },
   "source": [
    "# Amazon Fine Food Reviews Analysis\n",
    "\n",
    "\n",
    "Data Source: https://www.kaggle.com/snap/amazon-fine-food-reviews <br>\n",
    "\n",
    "EDA: https://nycdatascience.com/blog/student-works/amazon-fine-foods-visualization/\n",
    "\n",
    "\n",
    "The Amazon Fine Food Reviews dataset consists of reviews of fine foods from Amazon.<br>\n",
    "\n",
    "Number of reviews: 568,454<br>\n",
    "Number of users: 256,059<br>\n",
    "Number of products: 74,258<br>\n",
    "Timespan: Oct 1999 - Oct 2012<br>\n",
    "Number of Attributes/Columns in data: 10 \n",
    "\n",
    "Attribute Information:\n",
    "\n",
    "1. Id\n",
    "2. ProductId - unique identifier for the product\n",
    "3. UserId - unqiue identifier for the user\n",
    "4. ProfileName\n",
    "5. HelpfulnessNumerator - number of users who found the review helpful\n",
    "6. HelpfulnessDenominator - number of users who indicated whether they found the review helpful or not\n",
    "7. Score - rating between 1 and 5\n",
    "8. Time - timestamp for the review\n",
    "9. Summary - brief summary of the review\n",
    "10. Text - text of the review\n",
    "\n",
    "\n",
    "#### Objective:\n",
    "Given a review, determine whether the review is positive (rating of 4 or 5) or negative (rating of 1 or 2).\n",
    "\n",
    "<br>\n",
    "[Q] How to determine if a review is positive or negative?<br>\n",
    "<br> \n",
    "[Ans] We could use Score/Rating. A rating of 4 or 5 can be cosnidered as a positive review. A rating of 1 or 2 can be considered as negative one. A review of rating 3 is considered nuetral and such reviews are ignored from our analysis. This is an approximate and proxy way of determining the polarity (positivity/negativity) of a review.\n",
    "\n",
    "\n"
   ]
  },
  {
   "cell_type": "markdown",
   "metadata": {
    "colab_type": "text",
    "id": "Iac3VjZcDYHf"
   },
   "source": [
    "# [1]. Reading Data"
   ]
  },
  {
   "cell_type": "markdown",
   "metadata": {
    "colab_type": "text",
    "id": "wEsMRzNDDYHi"
   },
   "source": [
    "## [1.1] Loading the data"
   ]
  },
  {
   "cell_type": "code",
   "execution_count": 1,
   "metadata": {
    "colab": {},
    "colab_type": "code",
    "id": "ADl9geUvDYHl"
   },
   "outputs": [],
   "source": [
    "%matplotlib inline\n",
    "import warnings\n",
    "warnings.filterwarnings(\"ignore\")\n",
    "\n",
    "import sqlite3\n",
    "import pandas as pd\n",
    "import numpy as np\n",
    "import matplotlib.pyplot as plt\n",
    "import seaborn as sns\n",
    "import re\n",
    "\n",
    "import nltk\n",
    "from nltk.corpus import stopwords\n",
    "from nltk.stem import PorterStemmer\n",
    "from nltk.stem import SnowballStemmer\n",
    "\n",
    "from bs4 import BeautifulSoup\n",
    "from sklearn.feature_extraction.text import TfidfVectorizer,TfidfTransformer,CountVectorizer\n",
    "from sklearn.model_selection import GridSearchCV\n",
    "from sklearn.preprocessing import StandardScaler\n",
    "\n",
    "from sklearn.metrics import roc_auc_score, roc_curve,confusion_matrix,auc,accuracy_score,classification_report,precision_score,recall_score,f1_score\n",
    "\n",
    "from sklearn.naive_bayes import MultinomialNB\n",
    "\n",
    "from prettytable import PrettyTable\n",
    "\n",
    "from tqdm import tqdm"
   ]
  },
  {
   "cell_type": "code",
   "execution_count": 2,
   "metadata": {
    "colab": {},
    "colab_type": "code",
    "id": "9pO69buUDYHz",
    "outputId": "00371235-7840-4a31-be63-4945d6cbbb2e",
    "scrolled": true
   },
   "outputs": [
    {
     "name": "stdout",
     "output_type": "stream",
     "text": [
      "Number of data points in our data (525814, 10)\n"
     ]
    }
   ],
   "source": [
    "# using SQLite Table to read data.\n",
    "con = sqlite3.connect('D:\\Study_materials\\Applied_AI\\Assignments\\database.sqlite') \n",
    "filtered_data = pd.read_sql_query(\"\"\" SELECT * FROM Reviews WHERE Score != 3\"\"\", con)\n",
    "\n",
    "# Give reviews with Score>3 a positive rating(1), and reviews with a score<3 a negative rating(0).\n",
    "def partition(x):\n",
    "    if x < 3:\n",
    "        return 0\n",
    "    return 1\n",
    "\n",
    "#changing reviews with score less than 3 to be positive and vice-versa\n",
    "actualScore = filtered_data['Score']\n",
    "positiveNegative = actualScore.map(partition) \n",
    "filtered_data['Score'] = positiveNegative\n",
    "print(\"Number of data points in our data\", filtered_data.shape)"
   ]
  },
  {
   "cell_type": "markdown",
   "metadata": {
    "colab_type": "text",
    "id": "G1rTdPsqDYJI"
   },
   "source": [
    "#  [2] Exploratory Data Analysis"
   ]
  },
  {
   "cell_type": "markdown",
   "metadata": {
    "colab_type": "text",
    "id": "Wh5RH-NsDYJJ"
   },
   "source": [
    "## [2.1] Data Cleaning: Deduplication\n",
    "\n",
    "It is observed that the reviews data had many duplicate entries. Hence it was necessary to remove duplicates in order to get unbiased results for the analysis of the data.  Following is an example:"
   ]
  },
  {
   "cell_type": "code",
   "execution_count": 3,
   "metadata": {
    "colab": {},
    "colab_type": "code",
    "id": "4CS7fUdLDYJd",
    "outputId": "6fa1310c-c733-4bb5-9b0a-cbb72b05e086"
   },
   "outputs": [
    {
     "data": {
      "text/plain": [
       "(364173, 10)"
      ]
     },
     "execution_count": 3,
     "metadata": {},
     "output_type": "execute_result"
    }
   ],
   "source": [
    "#Deduplication of entries\n",
    "final=filtered_data.drop_duplicates(subset={\"UserId\",\"ProfileName\",\"Time\",\"Text\"}, keep='first', inplace=False)\n",
    "final.shape"
   ]
  },
  {
   "cell_type": "code",
   "execution_count": 4,
   "metadata": {
    "colab": {},
    "colab_type": "code",
    "id": "Hcc_-CJMDYJk",
    "outputId": "8490fe52-8d00-4196-d0f4-5718b54f10e8"
   },
   "outputs": [
    {
     "data": {
      "text/plain": [
       "69.25890143662969"
      ]
     },
     "execution_count": 4,
     "metadata": {},
     "output_type": "execute_result"
    }
   ],
   "source": [
    "#Checking to see how much % of data still remains\n",
    "(final['Id'].size*1.0)/(filtered_data['Id'].size*1.0)*100"
   ]
  },
  {
   "cell_type": "code",
   "execution_count": 5,
   "metadata": {
    "colab": {},
    "colab_type": "code",
    "id": "Ezix6kJ_DYJ3"
   },
   "outputs": [],
   "source": [
    "final=final[final.HelpfulnessNumerator<=final.HelpfulnessDenominator]"
   ]
  },
  {
   "cell_type": "code",
   "execution_count": 6,
   "metadata": {
    "colab": {},
    "colab_type": "code",
    "id": "yWsVhvArDYJ9",
    "outputId": "0fd8ea32-ce27-4232-a7f1-880eb06ca956"
   },
   "outputs": [
    {
     "name": "stdout",
     "output_type": "stream",
     "text": [
      "(364171, 10)\n"
     ]
    },
    {
     "data": {
      "text/plain": [
       "1    307061\n",
       "0     57110\n",
       "Name: Score, dtype: int64"
      ]
     },
     "execution_count": 6,
     "metadata": {},
     "output_type": "execute_result"
    }
   ],
   "source": [
    "#Before starting the next phase of preprocessing lets see the number of entries left\n",
    "print(final.shape)\n",
    "\n",
    "#How many positive and negative reviews are present in our dataset?\n",
    "final['Score'].value_counts()"
   ]
  },
  {
   "cell_type": "code",
   "execution_count": 7,
   "metadata": {},
   "outputs": [],
   "source": [
    "final = final.sort_values(['Time'], axis = 0)"
   ]
  },
  {
   "cell_type": "code",
   "execution_count": 8,
   "metadata": {},
   "outputs": [],
   "source": [
    "final = final.head(100000)\n",
    "final_x = final['Text']\n",
    "final_y = final['Score']"
   ]
  },
  {
   "cell_type": "markdown",
   "metadata": {
    "colab_type": "text",
    "id": "AoLxCQ-VDYKI"
   },
   "source": [
    "#  [3] Preprocessing\n",
    "\n",
    "Steps will involve:\n",
    "\n",
    "- Stopword removal\n",
    "- Stemming\n",
    "- Punctuation removal"
   ]
  },
  {
   "cell_type": "code",
   "execution_count": 9,
   "metadata": {},
   "outputs": [],
   "source": [
    "stopwords= set(['br', 'the', 'i', 'me', 'my', 'myself', 'we', 'our', 'ours', 'ourselves', 'you', \"you're\", \"you've\",\\\n",
    "            \"you'll\", \"you'd\", 'your', 'yours', 'yourself', 'yourselves', 'he', 'him', 'his', 'himself', \\\n",
    "            'she', \"she's\", 'her', 'hers', 'herself', 'it', \"it's\", 'its', 'itself', 'they', 'them', 'their',\\\n",
    "            'theirs', 'themselves', 'what', 'which', 'who', 'whom', 'this', 'that', \"that'll\", 'these', 'those', \\\n",
    "            'am', 'is', 'are', 'was', 'were', 'be', 'been', 'being', 'have', 'has', 'had', 'having', 'do', 'does', \\\n",
    "            'did', 'doing', 'a', 'an', 'the', 'and', 'but', 'if', 'or', 'because', 'as', 'until', 'while', 'of', \\\n",
    "            'at', 'by', 'for', 'with', 'about', 'against', 'between', 'into', 'through', 'during', 'before', 'after',\\\n",
    "            'above', 'below', 'to', 'from', 'up', 'down', 'in', 'out', 'on', 'off', 'over', 'under', 'again', 'further',\\\n",
    "            'then', 'once', 'here', 'there', 'when', 'where', 'why', 'how', 'all', 'any', 'both', 'each', 'few', 'more',\\\n",
    "            'most', 'other', 'some', 'such', 'only', 'own', 'same', 'so', 'than', 'too', 'very', \\\n",
    "            's', 't', 'can', 'will', 'just', 'don', \"don't\", 'should', \"should've\", 'now', 'd', 'll', 'm', 'o', 're', \\\n",
    "            've', 'y', 'ain', 'aren', \"aren't\", 'couldn', \"couldn't\", 'didn', \"didn't\", 'doesn', \"doesn't\", 'hadn',\\\n",
    "            \"hadn't\", 'hasn', \"hasn't\", 'haven', \"haven't\", 'isn', \"isn't\", 'ma', 'mightn', \"mightn't\", 'mustn',\\\n",
    "            \"mustn't\", 'needn', \"needn't\", 'shan', \"shan't\", 'shouldn', \"shouldn't\", 'wasn', \"wasn't\", 'weren', \"weren't\", \\\n",
    "            'won', \"won't\", 'wouldn', \"wouldn't\"])"
   ]
  },
  {
   "cell_type": "code",
   "execution_count": 10,
   "metadata": {},
   "outputs": [],
   "source": [
    "def decontracted(phrase):\n",
    "    # specific\n",
    "    phrase = re.sub(r\"won't\", \"will not\", phrase)\n",
    "    phrase = re.sub(r\"can\\'t\", \"can not\", phrase)\n",
    "\n",
    "    # general\n",
    "    phrase = re.sub(r\"n\\'t\", \" not\", phrase)\n",
    "    phrase = re.sub(r\"\\'re\", \" are\", phrase)\n",
    "    phrase = re.sub(r\"\\'s\", \" is\", phrase)\n",
    "    phrase = re.sub(r\"\\'d\", \" would\", phrase)\n",
    "    phrase = re.sub(r\"\\'ll\", \" will\", phrase)\n",
    "    phrase = re.sub(r\"\\'t\", \" not\", phrase)\n",
    "    phrase = re.sub(r\"\\'ve\", \" have\", phrase)\n",
    "    phrase = re.sub(r\"\\'m\", \" am\", phrase)\n",
    "    return phrase"
   ]
  },
  {
   "cell_type": "code",
   "execution_count": 11,
   "metadata": {},
   "outputs": [
    {
     "name": "stderr",
     "output_type": "stream",
     "text": [
      "100%|████████████████████████████████████████████████████████████████████████| 100000/100000 [00:57<00:00, 1732.59it/s]\n"
     ]
    }
   ],
   "source": [
    "# Code to remove URLs,HTML tags, words with numbers and special characters, making words lower\n",
    "preprocessed_reviews = []\n",
    "# tqdm is for printing the status bar\n",
    "for sentance in tqdm(final_x):\n",
    "    sentance = re.sub(r\"http\\S+\", \"\", sentance)\n",
    "    sentance = BeautifulSoup(sentance, 'lxml').get_text()\n",
    "    sentance = decontracted(sentance)\n",
    "    sentance = re.sub(\"\\S*\\d\\S*\", \"\", sentance).strip()\n",
    "    sentance = re.sub('[^A-Za-z]+', ' ', sentance)\n",
    "    # https://gist.github.com/sebleier/554280\n",
    "    sentance = ' '.join(e.lower() for e in sentance.split() if e.lower() not in stopwords)\n",
    "    preprocessed_reviews.append(sentance.strip())"
   ]
  },
  {
   "cell_type": "code",
   "execution_count": 12,
   "metadata": {},
   "outputs": [],
   "source": [
    "final_x= preprocessed_reviews"
   ]
  },
  {
   "cell_type": "code",
   "execution_count": 13,
   "metadata": {},
   "outputs": [],
   "source": [
    "# Let's split final_x and final_y datsets into train and test sets\n",
    "X_train = final_x[:80000]\n",
    "X_test = final_x[80000:]\n",
    "y_train = final_y[:80000]\n",
    "y_test = final_y[80000:]"
   ]
  },
  {
   "cell_type": "markdown",
   "metadata": {},
   "source": [
    "# Applying Multinomial Naive Bayes\n",
    "\n",
    "## [4.1] Naive bayes algo implementation on BOW"
   ]
  },
  {
   "cell_type": "code",
   "execution_count": 14,
   "metadata": {},
   "outputs": [],
   "source": [
    "count_vec = CountVectorizer(max_features=5000)\n",
    "bow_X_train = count_vec.fit_transform(X_train)\n",
    "bow_X_test = count_vec.transform(X_test)"
   ]
  },
  {
   "cell_type": "code",
   "execution_count": 15,
   "metadata": {},
   "outputs": [
    {
     "name": "stdout",
     "output_type": "stream",
     "text": [
      "The best alpha: 1\n",
      "Accuracy on Training data: 91.03445940935924 %\n"
     ]
    }
   ],
   "source": [
    "alpha = [0.0001,0.001,0.01,0.1,1,10,100,1000,10000]\n",
    "est = MultinomialNB(class_prior = [0.5,0.5])\n",
    "param_grid = { 'alpha':alpha}\n",
    "grid = GridSearchCV(estimator=est,param_grid=param_grid, scoring = 'roc_auc',cv=10, n_jobs= -1)\n",
    "grid.fit(bow_X_train,y_train)\n",
    "train_acc1 = grid.best_score_*100\n",
    "al1 = grid.best_params_.get('alpha')\n",
    "print('The best alpha:',al1)\n",
    "print('Accuracy on Training data:',train_acc1,'%')\n"
   ]
  },
  {
   "cell_type": "code",
   "execution_count": 16,
   "metadata": {},
   "outputs": [
    {
     "data": {
      "text/plain": [
       "{'mean_fit_time': array([0.12497199, 0.13122008, 0.14840267, 0.14059293, 0.13434446,\n",
       "        0.13121972, 0.12965734, 0.13746848, 0.13121958]),\n",
       " 'mean_score_time': array([0.0124975 , 0.01249743, 0.01249738, 0.00781052, 0.00937235,\n",
       "        0.01405942, 0.01406057, 0.00937328, 0.00468659]),\n",
       " 'mean_test_score': array([0.90613906, 0.90699971, 0.90794926, 0.90891198, 0.91034459,\n",
       "        0.90331396, 0.74051724, 0.54768228, 0.48935779]),\n",
       " 'mean_train_score': array([0.9339973 , 0.93392658, 0.93380352, 0.9335641 , 0.93271787,\n",
       "        0.92217362, 0.75057886, 0.54945454, 0.49022653]),\n",
       " 'param_alpha': masked_array(data=[0.0001, 0.001, 0.01, 0.1, 1, 10, 100, 1000, 10000],\n",
       "              mask=[False, False, False, False, False, False, False, False,\n",
       "                    False],\n",
       "        fill_value='?',\n",
       "             dtype=object),\n",
       " 'params': [{'alpha': 0.0001},\n",
       "  {'alpha': 0.001},\n",
       "  {'alpha': 0.01},\n",
       "  {'alpha': 0.1},\n",
       "  {'alpha': 1},\n",
       "  {'alpha': 10},\n",
       "  {'alpha': 100},\n",
       "  {'alpha': 1000},\n",
       "  {'alpha': 10000}],\n",
       " 'rank_test_score': array([5, 4, 3, 2, 1, 6, 7, 8, 9]),\n",
       " 'split0_test_score': array([0.90960283, 0.91100992, 0.91255259, 0.91425904, 0.91739839,\n",
       "        0.90856368, 0.77361133, 0.59297315, 0.5331399 ]),\n",
       " 'split0_train_score': array([0.93504101, 0.9349716 , 0.93485756, 0.93462467, 0.93371054,\n",
       "        0.92270929, 0.74723659, 0.54470051, 0.48535505]),\n",
       " 'split1_test_score': array([0.91764405, 0.91800622, 0.91843606, 0.91899706, 0.91969121,\n",
       "        0.91273538, 0.75510751, 0.5532276 , 0.49015817]),\n",
       " 'split1_train_score': array([0.93398082, 0.93392142, 0.93381745, 0.93360981, 0.93284814,\n",
       "        0.92257251, 0.75026637, 0.548638  , 0.4897703 ]),\n",
       " 'split2_test_score': array([0.91077883, 0.91124811, 0.91203857, 0.91305094, 0.9148804 ,\n",
       "        0.91122162, 0.74878324, 0.54206663, 0.47941662]),\n",
       " 'split2_train_score': array([0.93403518, 0.93396585, 0.9338478 , 0.93362238, 0.9327991 ,\n",
       "        0.92239371, 0.75035673, 0.54984967, 0.49086812]),\n",
       " 'split3_test_score': array([0.90367165, 0.90511276, 0.9066797 , 0.90826609, 0.91016731,\n",
       "        0.90270861, 0.73900036, 0.54938241, 0.49111491]),\n",
       " 'split3_train_score': array([0.93389933, 0.93382728, 0.9336993 , 0.93344876, 0.93263258,\n",
       "        0.92237893, 0.75043093, 0.54909676, 0.49004098]),\n",
       " 'split4_test_score': array([0.90760383, 0.9082709 , 0.90881555, 0.90921027, 0.90929881,\n",
       "        0.90144851, 0.7565703 , 0.57283988, 0.51539391]),\n",
       " 'split4_train_score': array([0.93483851, 0.93477407, 0.93466405, 0.93445394, 0.9337273 ,\n",
       "        0.92369654, 0.75055282, 0.54714807, 0.48753771]),\n",
       " 'split5_test_score': array([0.86695007, 0.86720379, 0.86740198, 0.86750062, 0.86716987,\n",
       "        0.84934102, 0.66888664, 0.493549  , 0.44216787]),\n",
       " 'split5_train_score': array([0.93248171, 0.93240817, 0.93229103, 0.93206744, 0.93121586,\n",
       "        0.9203025 , 0.75463688, 0.55506645, 0.49524161]),\n",
       " 'split6_test_score': array([0.90424381, 0.90471379, 0.90520066, 0.90561554, 0.90628429,\n",
       "        0.90183867, 0.71805495, 0.5226327 , 0.46940831]),\n",
       " 'split6_train_score': array([0.93439073, 0.93432506, 0.93420802, 0.9339705 , 0.93308094,\n",
       "        0.92236462, 0.75338108, 0.5521116 , 0.49258856]),\n",
       " 'split7_test_score': array([0.90749664, 0.90920355, 0.91109036, 0.91296257, 0.91532158,\n",
       "        0.91256828, 0.74653544, 0.55230428, 0.49447023]),\n",
       " 'split7_train_score': array([0.93453128, 0.93445156, 0.93430285, 0.93402118, 0.93308935,\n",
       "        0.92273923, 0.75114408, 0.54973845, 0.49062795]),\n",
       " 'split8_test_score': array([0.92156284, 0.92221352, 0.92310105, 0.92376788, 0.92565098,\n",
       "        0.92196195, 0.7551974 , 0.55090737, 0.48933667]),\n",
       " 'split8_train_score': array([0.93292163, 0.93285579, 0.93273738, 0.93248823, 0.93159316,\n",
       "        0.92063718, 0.74816109, 0.54881542, 0.49000275]),\n",
       " 'split9_test_score': array([0.91183139, 0.91300982, 0.91417137, 0.91548495, 0.91757816,\n",
       "        0.91074687, 0.74340762, 0.54692173, 0.48895571]),\n",
       " 'split9_train_score': array([0.93385279, 0.93376496, 0.93360976, 0.93333411, 0.93248169,\n",
       "        0.92194166, 0.74962199, 0.54938053, 0.49023225]),\n",
       " 'std_fit_time': array([0.00988035, 0.00765232, 0.01746511, 0.01562154, 0.0076522 ,\n",
       "        0.01593077, 0.01220133, 0.0136166 , 0.0103626 ]),\n",
       " 'std_score_time': array([0.01169016, 0.00624871, 0.00937293, 0.00781052, 0.01036181,\n",
       "        0.00468647, 0.00468686, 0.01036241, 0.00715889]),\n",
       " 'std_test_score': array([0.01409052, 0.01421836, 0.01442158, 0.01467577, 0.01533128,\n",
       "        0.01893724, 0.02744352, 0.02517831, 0.02312679]),\n",
       " 'std_train_score': array([0.00075652, 0.00075726, 0.00075758, 0.00075894, 0.00076693,\n",
       "        0.0009554 , 0.00206739, 0.00260614, 0.00250114])}"
      ]
     },
     "execution_count": 16,
     "metadata": {},
     "output_type": "execute_result"
    }
   ],
   "source": [
    "grid.cv_results_"
   ]
  },
  {
   "cell_type": "code",
   "execution_count": 17,
   "metadata": {
    "scrolled": true
   },
   "outputs": [],
   "source": [
    "mean_train_score = []\n",
    "for i in grid.cv_results_['mean_train_score']:\n",
    "    mean_train_score.append(i*100)"
   ]
  },
  {
   "cell_type": "code",
   "execution_count": 18,
   "metadata": {},
   "outputs": [
    {
     "data": {
      "text/plain": [
       "[93.39972985513987,\n",
       " 93.3926575899755,\n",
       " 93.38035202437872,\n",
       " 93.35641022256199,\n",
       " 93.27178675609638,\n",
       " 92.21736152785505,\n",
       " 75.05788569345964,\n",
       " 54.94545446876734,\n",
       " 49.02265273341882]"
      ]
     },
     "execution_count": 18,
     "metadata": {},
     "output_type": "execute_result"
    }
   ],
   "source": [
    "mean_train_score"
   ]
  },
  {
   "cell_type": "code",
   "execution_count": 19,
   "metadata": {
    "scrolled": true
   },
   "outputs": [],
   "source": [
    "mean_test_score = []\n",
    "for j in grid.cv_results_['mean_test_score']:\n",
    "    mean_test_score.append(j*100)"
   ]
  },
  {
   "cell_type": "code",
   "execution_count": 20,
   "metadata": {},
   "outputs": [
    {
     "data": {
      "text/plain": [
       "[90.61390593623938,\n",
       " 90.69997052129615,\n",
       " 90.79492578582293,\n",
       " 90.89119774835716,\n",
       " 91.03445940935924,\n",
       " 90.33139622367639,\n",
       " 74.05172424947342,\n",
       " 54.768227815448334,\n",
       " 48.93577902032044]"
      ]
     },
     "execution_count": 20,
     "metadata": {},
     "output_type": "execute_result"
    }
   ],
   "source": [
    "mean_test_score"
   ]
  },
  {
   "cell_type": "code",
   "execution_count": 21,
   "metadata": {},
   "outputs": [
    {
     "data": {
      "image/png": "[encoded data removed]",
      "text/plain": [
       "<Figure size 432x288 with 1 Axes>"
      ]
     },
     "metadata": {
      "needs_background": "light"
     },
     "output_type": "display_data"
    }
   ],
   "source": [
    "plt.plot(alpha,mean_train_score,marker='.',markersize = 15,label='Mean training scores for alphas')\n",
    "plt.plot(alpha,mean_test_score,marker='o', markersize= 5, label = 'Mean testing scores for alphas')\n",
    "plt.legend(loc='upper right')\n",
    "plt.show()"
   ]
  },
  {
   "cell_type": "code",
   "execution_count": 22,
   "metadata": {},
   "outputs": [],
   "source": [
    "est_opt1 = MultinomialNB(alpha=al1)\n",
    "est_opt1.fit(bow_X_train,y_train)\n",
    "predict = est_opt1.predict(bow_X_test)"
   ]
  },
  {
   "cell_type": "markdown",
   "metadata": {},
   "source": [
    "## Measure of effectiveness"
   ]
  },
  {
   "cell_type": "code",
   "execution_count": 23,
   "metadata": {},
   "outputs": [
    {
     "name": "stdout",
     "output_type": "stream",
     "text": [
      "Accuracy on test data: 90.185 %\n",
      "Precision Score: 95.40644398462904 %\n",
      "Recall Score: 93.15400600323251 %\n",
      "F1 score: 94.26677180992435 %\n",
      "Confusion Matrix: \n",
      " [[ 1899   777]\n",
      " [ 1186 16138]]\n"
     ]
    }
   ],
   "source": [
    "test_acc1 = accuracy_score(y_test,predict)*100\n",
    "precision1 = precision_score(y_test,predict)*100\n",
    "recall1 = recall_score(y_test,predict)*100\n",
    "f11 = f1_score(y_test,predict)*100\n",
    "print('Accuracy on test data:',test_acc1,'%')\n",
    "print('Precision Score:',precision1,'%')\n",
    "print('Recall Score:',recall1,'%')\n",
    "print('F1 score:',f11,'%')\n",
    "\n",
    "cm = confusion_matrix(y_test,predict)\n",
    "print('Confusion Matrix:','\\n',cm)"
   ]
  },
  {
   "cell_type": "code",
   "execution_count": 24,
   "metadata": {},
   "outputs": [
    {
     "data": {
      "image/png": "[encoded data removed]",
      "text/plain": [
       "<Figure size 432x288 with 2 Axes>"
      ]
     },
     "metadata": {
      "needs_background": "light"
     },
     "output_type": "display_data"
    }
   ],
   "source": [
    "cm_df = pd.DataFrame(cm, index = ['Negative','Positive'])\n",
    "sns.heatmap(cm_df, annot = True,fmt = 'd')\n",
    "plt.xticks([0.5,1.5],['Negative','Positive'],rotation = 45)\n",
    "plt.xlabel('Predicted')\n",
    "plt.ylabel('Actual')\n",
    "plt.show()"
   ]
  },
  {
   "cell_type": "code",
   "execution_count": 25,
   "metadata": {},
   "outputs": [
    {
     "name": "stdout",
     "output_type": "stream",
     "text": [
      "              precision    recall  f1-score   support\n",
      "\n",
      "           0       0.62      0.71      0.66      2676\n",
      "           1       0.95      0.93      0.94     17324\n",
      "\n",
      "   micro avg       0.90      0.90      0.90     20000\n",
      "   macro avg       0.78      0.82      0.80     20000\n",
      "weighted avg       0.91      0.90      0.90     20000\n",
      "\n"
     ]
    }
   ],
   "source": [
    "print(classification_report(y_test,predict))"
   ]
  },
  {
   "cell_type": "code",
   "execution_count": 26,
   "metadata": {},
   "outputs": [
    {
     "data": {
      "image/png": "[encoded data removed]",
      "text/plain": [
       "<Figure size 432x288 with 1 Axes>"
      ]
     },
     "metadata": {
      "needs_background": "light"
     },
     "output_type": "display_data"
    }
   ],
   "source": [
    "#Plotting Roc curve\n",
    "\n",
    "y_pred = est_opt1.predict_proba(bow_X_test)[:,1]\n",
    "\n",
    "fpr,tpr,threshold = roc_curve(y_test,y_pred)\n",
    "\n",
    "plt.plot([0,1],[0,1],linestyle = '--')\n",
    "plt.plot(fpr,tpr,marker='.')\n",
    "plt.xlabel('False positive rate')\n",
    "plt.ylabel('True positive rate')\n",
    "plt.show()"
   ]
  },
  {
   "cell_type": "code",
   "execution_count": 27,
   "metadata": {},
   "outputs": [
    {
     "name": "stdout",
     "output_type": "stream",
     "text": [
      "0.919653140238673\n"
     ]
    }
   ],
   "source": [
    "roc_score1 = roc_auc_score(y_test,y_pred)\n",
    "print(roc_score1)"
   ]
  },
  {
   "cell_type": "code",
   "execution_count": 28,
   "metadata": {},
   "outputs": [],
   "source": [
    "neg_imp_word = list(map(abs,est_opt1.feature_log_prob_))[0].argsort()[0:10]\n",
    "pos_imp_word = list(map(abs,est_opt1.feature_log_prob_))[1].argsort()[0:10]"
   ]
  },
  {
   "cell_type": "markdown",
   "metadata": {},
   "source": [
    "### [4.1.1] Top 10 important features of positive class"
   ]
  },
  {
   "cell_type": "code",
   "execution_count": 29,
   "metadata": {},
   "outputs": [
    {
     "name": "stdout",
     "output_type": "stream",
     "text": [
      "Below are the Top 10 Positive impacting words:\n",
      "['not', 'like', 'good', 'great', 'tea', 'one', 'taste', 'flavor', 'product', 'love']\n"
     ]
    }
   ],
   "source": [
    "print('Below are the Top 10 Positive impacting words:')\n",
    "pos1 = []\n",
    "for i in pos_imp_word:\n",
    "    for j in count_vec.vocabulary_:\n",
    "        if count_vec.vocabulary_[j] == i:\n",
    "            pos1.append(j)\n",
    "print(pos1)"
   ]
  },
  {
   "cell_type": "markdown",
   "metadata": {},
   "source": [
    "### [4.1.2] Top 10 important features of negative class"
   ]
  },
  {
   "cell_type": "code",
   "execution_count": 30,
   "metadata": {},
   "outputs": [
    {
     "name": "stdout",
     "output_type": "stream",
     "text": [
      "Below are the Top 10 Negative impacting words: \n",
      "['not', 'like', 'product', 'taste', 'would', 'one', 'good', 'no', 'flavor', 'tea']\n"
     ]
    }
   ],
   "source": [
    "print('Below are the Top 10 Negative impacting words: ')\n",
    "neg1 = []\n",
    "for i in neg_imp_word:\n",
    "    for j in count_vec.vocabulary_:\n",
    "        if count_vec.vocabulary_[j] == i:\n",
    "            neg1.append(j)\n",
    "print(neg1)"
   ]
  },
  {
   "cell_type": "markdown",
   "metadata": {},
   "source": [
    "## [4.2] Naive bayes algo implementation on TFIDF"
   ]
  },
  {
   "cell_type": "code",
   "execution_count": 31,
   "metadata": {},
   "outputs": [],
   "source": [
    "tfidf_vec = TfidfVectorizer(max_features=5000)\n",
    "tfidf_X_train = tfidf_vec.fit_transform(X_train)\n",
    "tfidf_X_test = tfidf_vec.transform(X_test)"
   ]
  },
  {
   "cell_type": "code",
   "execution_count": 32,
   "metadata": {},
   "outputs": [
    {
     "name": "stdout",
     "output_type": "stream",
     "text": [
      "The best alpha: 0.1\n",
      "Accuracy on Training data: 92.23124992729143 %\n"
     ]
    }
   ],
   "source": [
    "alpha = [0.0001,0.001,0.01,0.1,1,10,100,1000,10000]\n",
    "est = MultinomialNB(class_prior = [0.5,0.5])\n",
    "param_grid = { 'alpha':alpha}\n",
    "grid = GridSearchCV(estimator=est,param_grid=param_grid, scoring = 'roc_auc',cv=10, n_jobs= -1)\n",
    "grid.fit(tfidf_X_train,y_train)\n",
    "train_acc2 = grid.best_score_*100\n",
    "al2 = grid.best_params_.get('alpha')\n",
    "print('The best alpha:',al2)\n",
    "print('Accuracy on Training data:',train_acc2,'%')"
   ]
  },
  {
   "cell_type": "code",
   "execution_count": 33,
   "metadata": {},
   "outputs": [
    {
     "data": {
      "text/plain": [
       "{'mean_fit_time': array([0.11614771, 0.12809553, 0.12184703, 0.13278198, 0.1299963 ,\n",
       "        0.13122084, 0.13278201, 0.12184758, 0.11872199]),\n",
       " 'mean_score_time': array([0.00781074, 0.00937347, 0.00624855, 0.01093528, 0.01093578,\n",
       "        0.01249635, 0.01093507, 0.01249716, 0.00781038]),\n",
       " 'mean_test_score': array([0.91780182, 0.91884827, 0.9201667 , 0.9223125 , 0.92215364,\n",
       "        0.86755657, 0.72023386, 0.6388261 , 0.60761955]),\n",
       " 'mean_train_score': array([0.94589006, 0.94583293, 0.94571585, 0.94532928, 0.94008739,\n",
       "        0.8813211 , 0.72596093, 0.64152472, 0.60975908]),\n",
       " 'param_alpha': masked_array(data=[0.0001, 0.001, 0.01, 0.1, 1, 10, 100, 1000, 10000],\n",
       "              mask=[False, False, False, False, False, False, False, False,\n",
       "                    False],\n",
       "        fill_value='?',\n",
       "             dtype=object),\n",
       " 'params': [{'alpha': 0.0001},\n",
       "  {'alpha': 0.001},\n",
       "  {'alpha': 0.01},\n",
       "  {'alpha': 0.1},\n",
       "  {'alpha': 1},\n",
       "  {'alpha': 10},\n",
       "  {'alpha': 100},\n",
       "  {'alpha': 1000},\n",
       "  {'alpha': 10000}],\n",
       " 'rank_test_score': array([5, 4, 3, 1, 2, 6, 7, 8, 9]),\n",
       " 'split0_test_score': array([0.91417279, 0.9153408 , 0.91711715, 0.92047398, 0.92135291,\n",
       "        0.86445743, 0.73900754, 0.66593627, 0.63398576]),\n",
       " 'split0_train_score': array([0.94642592, 0.94637119, 0.94625198, 0.94580092, 0.94008447,\n",
       "        0.88112309, 0.7238146 , 0.63851968, 0.60672258]),\n",
       " 'split1_test_score': array([0.92449137, 0.92532503, 0.92634377, 0.92778473, 0.92615277,\n",
       "        0.86561997, 0.71461766, 0.63215867, 0.59939891]),\n",
       " 'split1_train_score': array([0.94566561, 0.94561783, 0.94552159, 0.94518486, 0.94004495,\n",
       "        0.88119347, 0.72552957, 0.64120851, 0.60947865]),\n",
       " 'split2_test_score': array([0.91887708, 0.91965941, 0.92069515, 0.92274757, 0.92440527,\n",
       "        0.87503403, 0.72825593, 0.64099811, 0.60726341]),\n",
       " 'split2_train_score': array([0.94618706, 0.94613284, 0.94601864, 0.94563245, 0.94036827,\n",
       "        0.88091652, 0.72471119, 0.6404911 , 0.60874331]),\n",
       " 'split3_test_score': array([0.91509943, 0.91685818, 0.91918828, 0.92245812, 0.92187493,\n",
       "        0.86473978, 0.71926225, 0.63935055, 0.60843001]),\n",
       " 'split3_train_score': array([0.94567786, 0.94561752, 0.94549667, 0.94512614, 0.94005165,\n",
       "        0.88194482, 0.72600305, 0.64137518, 0.60962128]),\n",
       " 'split4_test_score': array([0.92147348, 0.92220684, 0.92302585, 0.92417374, 0.92175946,\n",
       "        0.86734262, 0.73055748, 0.65608948, 0.62684026]),\n",
       " 'split4_train_score': array([0.94627827, 0.94622792, 0.94612435, 0.94577781, 0.94073076,\n",
       "        0.88195854, 0.72478979, 0.63934809, 0.60726603]),\n",
       " 'split5_test_score': array([0.89721582, 0.89756331, 0.89805076, 0.89912566, 0.89552994,\n",
       "        0.82582013, 0.66981897, 0.59307058, 0.56433445]),\n",
       " 'split5_train_score': array([0.94544602, 0.94539246, 0.94528827, 0.94494548, 0.93986557,\n",
       "        0.88223679, 0.73038437, 0.64619829, 0.61421443]),\n",
       " 'split6_test_score': array([0.91974469, 0.92042426, 0.92115966, 0.92252354, 0.92257167,\n",
       "        0.86857144, 0.70425462, 0.61966426, 0.59122999]),\n",
       " 'split6_train_score': array([0.94604566, 0.9459887 , 0.9458697 , 0.94547922, 0.94029306,\n",
       "        0.88231069, 0.72911299, 0.64472157, 0.61268996]),\n",
       " 'split7_test_score': array([0.91635522, 0.91829661, 0.92047587, 0.92337855, 0.92539148,\n",
       "        0.8780579 , 0.73621552, 0.65580091, 0.62393577]),\n",
       " 'split7_train_score': array([0.94605891, 0.9459902 , 0.94585124, 0.94543637, 0.94026845,\n",
       "        0.88173944, 0.72586249, 0.6411533 , 0.60974396]),\n",
       " 'split8_test_score': array([0.92911784, 0.92966558, 0.93047356, 0.9323954 , 0.93342497,\n",
       "        0.88751674, 0.73805263, 0.6505276 , 0.61741086]),\n",
       " 'split8_train_score': array([0.9453591 , 0.94530132, 0.94518051, 0.94477393, 0.93938161,\n",
       "        0.87941542, 0.7238811 , 0.64019945, 0.60873237]),\n",
       " 'split9_test_score': array([0.92146916, 0.92314141, 0.92513553, 0.9280622 , 0.92907177,\n",
       "        0.87840583, 0.7222884 , 0.6346545 , 0.60335666]),\n",
       " 'split9_train_score': array([0.94575616, 0.94568935, 0.94555549, 0.94513565, 0.93978511,\n",
       "        0.88037221, 0.72552012, 0.64203199, 0.6103782 ]),\n",
       " 'std_fit_time': array([0.01157365, 0.01530623, 0.01530647, 0.01600642, 0.01712152,\n",
       "        0.01593203, 0.01746483, 0.01361861, 0.01249568]),\n",
       " 'std_score_time': array([0.00781074, 0.00765341, 0.00765287, 0.01000299, 0.0100033 ,\n",
       "        0.00937275, 0.00715868, 0.00937302, 0.00781038]),\n",
       " 'std_test_score': array([0.00806815, 0.00813245, 0.00823355, 0.00842885, 0.00957189,\n",
       "        0.0156407 , 0.01982336, 0.01996352, 0.01911879]),\n",
       " 'std_train_score': array([0.00034223, 0.00034272, 0.00034189, 0.00033239, 0.00034781,\n",
       "        0.00086829, 0.00204353, 0.00221749, 0.00215506])}"
      ]
     },
     "execution_count": 33,
     "metadata": {},
     "output_type": "execute_result"
    }
   ],
   "source": [
    "grid.cv_results_"
   ]
  },
  {
   "cell_type": "code",
   "execution_count": 34,
   "metadata": {},
   "outputs": [],
   "source": [
    "mean_train_score = []\n",
    "for i in grid.cv_results_['mean_train_score']:\n",
    "    mean_train_score.append(i*100)"
   ]
  },
  {
   "cell_type": "code",
   "execution_count": 35,
   "metadata": {},
   "outputs": [],
   "source": [
    "mean_test_score = []\n",
    "for j in grid.cv_results_['mean_test_score']:\n",
    "    mean_test_score.append(j*100)"
   ]
  },
  {
   "cell_type": "code",
   "execution_count": 36,
   "metadata": {},
   "outputs": [
    {
     "data": {
      "text/plain": [
       "[91.78018162909734,\n",
       " 91.88482701201886,\n",
       " 92.01666980375109,\n",
       " 92.23124992729143,\n",
       " 92.21536357329208,\n",
       " 86.75565731204598,\n",
       " 72.02338629838847,\n",
       " 63.882610225162274,\n",
       " 60.76195536341158]"
      ]
     },
     "execution_count": 36,
     "metadata": {},
     "output_type": "execute_result"
    }
   ],
   "source": [
    "mean_test_score"
   ]
  },
  {
   "cell_type": "code",
   "execution_count": 37,
   "metadata": {},
   "outputs": [
    {
     "data": {
      "image/png": "[encoded data removed]",
      "text/plain": [
       "<Figure size 432x288 with 1 Axes>"
      ]
     },
     "metadata": {
      "needs_background": "light"
     },
     "output_type": "display_data"
    }
   ],
   "source": [
    "plt.plot(alpha,mean_train_score,marker='.',markersize = 15,label='Mean training scores for alphas')\n",
    "plt.plot(alpha,mean_test_score,marker='o', markersize= 5, label = 'Mean testing scores for alphas')\n",
    "plt.legend(loc='upper right')\n",
    "plt.show()"
   ]
  },
  {
   "cell_type": "code",
   "execution_count": 38,
   "metadata": {},
   "outputs": [],
   "source": [
    "est_opt2 = MultinomialNB(alpha=al2)\n",
    "est_opt2.fit(tfidf_X_train,y_train)\n",
    "predict = est_opt2.predict(tfidf_X_test)"
   ]
  },
  {
   "cell_type": "markdown",
   "metadata": {},
   "source": [
    "## Measure of effectiveness"
   ]
  },
  {
   "cell_type": "code",
   "execution_count": 39,
   "metadata": {},
   "outputs": [
    {
     "name": "stdout",
     "output_type": "stream",
     "text": [
      "Accuracy on test data: 88.805 %\n",
      "Precision score: 88.8248314201884 %\n",
      "Recall score: 99.60748095128146 %\n",
      "F1 score: 93.907648771462 %\n",
      "Confusion Matrix: \n",
      " [[  505  2171]\n",
      " [   68 17256]]\n"
     ]
    }
   ],
   "source": [
    "test_acc2 = accuracy_score(y_test,predict)*100\n",
    "precision2 = precision_score(y_test,predict)*100\n",
    "recall2 = recall_score(y_test,predict)*100\n",
    "f12 = f1_score(y_test,predict)*100\n",
    "\n",
    "print('Accuracy on test data:',test_acc2,'%')\n",
    "print('Precision score:',precision2,'%')\n",
    "print('Recall score:',recall2,'%')\n",
    "print('F1 score:',f12,'%')\n",
    "\n",
    "cm = confusion_matrix(y_test,predict)\n",
    "print('Confusion Matrix:','\\n',cm)"
   ]
  },
  {
   "cell_type": "code",
   "execution_count": 40,
   "metadata": {},
   "outputs": [
    {
     "data": {
      "image/png": "[encoded data removed]",
      "text/plain": [
       "<Figure size 432x288 with 2 Axes>"
      ]
     },
     "metadata": {
      "needs_background": "light"
     },
     "output_type": "display_data"
    }
   ],
   "source": [
    "cm_df = pd.DataFrame(cm, index = ['Negative','Positive'])\n",
    "sns.heatmap(cm_df, annot = True,fmt = 'd')\n",
    "plt.xticks([0.5,1.5],['Negative','Positive'],rotation = 45)\n",
    "plt.xlabel('Predicted')\n",
    "plt.ylabel('Actual')\n",
    "plt.show()"
   ]
  },
  {
   "cell_type": "code",
   "execution_count": 41,
   "metadata": {},
   "outputs": [
    {
     "data": {
      "image/png": "[encoded data removed]",
      "text/plain": [
       "<Figure size 432x288 with 1 Axes>"
      ]
     },
     "metadata": {
      "needs_background": "light"
     },
     "output_type": "display_data"
    }
   ],
   "source": [
    "#plotting Roc curve\n",
    "\n",
    "y_pred = est_opt2.predict_proba(bow_X_test)[:,1]\n",
    "fpr,tpr,threshold = roc_curve(y_test,y_pred)\n",
    "plt.plot([0,1],[0,1],linestyle='--')\n",
    "plt.plot(fpr,tpr,marker='.')\n",
    "plt.show()"
   ]
  },
  {
   "cell_type": "code",
   "execution_count": 42,
   "metadata": {},
   "outputs": [
    {
     "name": "stdout",
     "output_type": "stream",
     "text": [
      "0.9262057803460227\n"
     ]
    }
   ],
   "source": [
    "roc_score2 = roc_auc_score(y_test,y_pred)\n",
    "print(roc_score2)"
   ]
  },
  {
   "cell_type": "code",
   "execution_count": 43,
   "metadata": {},
   "outputs": [],
   "source": [
    "neg_imp_word = list(map(abs,est_opt2.feature_log_prob_))[0].argsort()[0:10]\n",
    "pos_imp_word = list(map(abs,est_opt2.feature_log_prob_))[1].argsort()[0:10]"
   ]
  },
  {
   "cell_type": "markdown",
   "metadata": {},
   "source": [
    "### [4.2.1] Top 10 important features of positive class"
   ]
  },
  {
   "cell_type": "code",
   "execution_count": 44,
   "metadata": {},
   "outputs": [
    {
     "name": "stdout",
     "output_type": "stream",
     "text": [
      "Below are the Top 10 positive impacting words:\n",
      "['not', 'great', 'tea', 'good', 'like', 'love', 'product', 'taste', 'coffee', 'one']\n"
     ]
    }
   ],
   "source": [
    "print('Below are the Top 10 positive impacting words:')\n",
    "pos2 = []\n",
    "for i in pos_imp_word:\n",
    "    for j in tfidf_vec.vocabulary_:\n",
    "        if tfidf_vec.vocabulary_[j] == i:\n",
    "            pos2.append(j)\n",
    "print(pos2)"
   ]
  },
  {
   "cell_type": "markdown",
   "metadata": {},
   "source": [
    "### [4.2.2] Top 10 important features of negative class"
   ]
  },
  {
   "cell_type": "code",
   "execution_count": 45,
   "metadata": {},
   "outputs": [
    {
     "name": "stdout",
     "output_type": "stream",
     "text": [
      "Below are the Top 10 negative impacting words:\n",
      "['not', 'like', 'product', 'taste', 'would', 'one', 'no', 'flavor', 'good', 'coffee']\n"
     ]
    }
   ],
   "source": [
    "print('Below are the Top 10 negative impacting words:')\n",
    "neg2 = []\n",
    "for i in neg_imp_word:\n",
    "    for j in tfidf_vec.vocabulary_:\n",
    "        if tfidf_vec.vocabulary_[j] == i:\n",
    "            neg2.append(j)\n",
    "print(neg2)"
   ]
  },
  {
   "cell_type": "markdown",
   "metadata": {},
   "source": [
    "## Formatting using Pretty table:"
   ]
  },
  {
   "cell_type": "code",
   "execution_count": 46,
   "metadata": {},
   "outputs": [
    {
     "name": "stdout",
     "output_type": "stream",
     "text": [
      "+----------------+-------+--------------+-------------+-----------+--------------+-----------+-------------+\n",
      "|     Model      | Alpha | Train Acc(%) | Test Acc(%) | AUC Score | Precision(%) | Recall(%) | F1 score(%) |\n",
      "+----------------+-------+--------------+-------------+-----------+--------------+-----------+-------------+\n",
      "|  NB using BOW  |   1   |    91.03     |    90.18    |    0.92   |    95.41     |   93.15   |    94.27    |\n",
      "| NB using TFIDF |  0.1  |    92.23     |     88.8    |    0.93   |    88.82     |   99.61   |    93.91    |\n",
      "+----------------+-------+--------------+-------------+-----------+--------------+-----------+-------------+\n"
     ]
    }
   ],
   "source": [
    "x = PrettyTable()\n",
    "\n",
    "model1 = 'NB using BOW'\n",
    "model2 = 'NB using TFIDF'\n",
    "\n",
    "x.field_names = ['Model','Alpha','Train Acc(%)','Test Acc(%)','AUC Score','Precision(%)','Recall(%)','F1 score(%)']\n",
    "\n",
    "train_acc1 = np.around(train_acc1,decimals=2)\n",
    "train_acc2 = np.around(train_acc2,decimals= 2)\n",
    "\n",
    "test_acc1 = np.around(test_acc1,decimals=2)\n",
    "test_acc2 = np.around(test_acc2,decimals=2)\n",
    "\n",
    "roc_score1 = np.around(roc_score1,decimals=2)\n",
    "roc_score2 = np.around(roc_score2,decimals=2)\n",
    "\n",
    "precision1 = np.around(precision1,decimals=2)\n",
    "precision2 = np.around(precision2,decimals=2)\n",
    "\n",
    "recall1 = np.around(recall1,decimals=2)\n",
    "recall2 = np.around(recall2,decimals=2)\n",
    "\n",
    "f11 = np.around(f11,decimals=2)\n",
    "f12 = np.around(f12,decimals=2)\n",
    "\n",
    "x.add_row([model1,al1,train_acc1,test_acc1,roc_score1,precision1,recall1,f11])\n",
    "x.add_row([model2,al2,train_acc2,test_acc2,roc_score2,precision2,recall2,f12])\n",
    "\n",
    "print(x)"
   ]
  },
  {
   "cell_type": "markdown",
   "metadata": {},
   "source": [
    "## Summary and Inference:\n",
    "\n",
    "- I have considered 100k data after time based sorting.\n",
    "- I have done time based splitting with 80:20 ratio for train and test respectively.\n",
    "- In BOW model, I got optimal alpha as 1 where in TFIDF model the optimal alpha was found as 0.1.\n",
    "- AUC score for both the models are almost same. F1 score of NB using BOW is higher compared to NB using TFIDF.\n",
    "- PrettyTable has been used to make a tabular summary of all the metrices for both models.\n",
    "- However during observation,I found that in above 2 models, top 10 positive and negative words which were impacting the models   were semantically similar. The cause which i am guessing is: all these words were mostly repeated in both the classes."
   ]
  },
  {
   "cell_type": "code",
   "execution_count": null,
   "metadata": {},
   "outputs": [],
   "source": []
  }
 ],
 "metadata": {
  "colab": {
   "name": "03 Amazon Fine Food Reviews Analysis_KNN.ipynb",
   "provenance": [],
   "version": "0.3.2"
  },
  "kernelspec": {
   "display_name": "Python [default]",
   "language": "python",
   "name": "python3"
  },
  "language_info": {
   "codemirror_mode": {
    "name": "ipython",
    "version": 3
   },
   "file_extension": ".py",
   "mimetype": "text/x-python",
   "name": "python",
   "nbconvert_exporter": "python",
   "pygments_lexer": "ipython3",
   "version": "3.5.6"
  }
 },
 "nbformat": 4,
 "nbformat_minor": 1
}
